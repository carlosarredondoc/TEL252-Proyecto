{
 "cells": [
  {
   "cell_type": "code",
   "execution_count": 1,
   "metadata": {},
   "outputs": [
    {
     "name": "stdout",
     "output_type": "stream",
     "text": [
      "Requirement already satisfied: ecdsa in c:\\users\\vtejo\\anaconda3\\lib\\site-packages (0.18.0)\n",
      "Requirement already satisfied: six>=1.9.0 in c:\\users\\vtejo\\anaconda3\\lib\\site-packages (from ecdsa) (1.16.0)\n"
     ]
    }
   ],
   "source": [
    "!pip install ecdsa"
   ]
  },
  {
   "cell_type": "code",
   "execution_count": 1,
   "metadata": {},
   "outputs": [],
   "source": [
    "import ecdsa\n",
    "from ecdsa import SigningKey\n",
    "sk = SigningKey.generate() # uses NIST192p\n",
    "vk = sk.verifying_key\n",
    "signature = sk.sign(b\"criptotel252\")\n",
    "assert vk.verify(signature, b\"criptotel252\")"
   ]
  },
  {
   "cell_type": "code",
   "execution_count": 3,
   "metadata": {},
   "outputs": [
    {
     "name": "stdout",
     "output_type": "stream",
     "text": [
      "b'\\xe4\\x93\\xac\\x8b)\\xa1\\xb0#\\xa0\\xad\\x02pR\\xbbXX}\\xa0\\xefB\\x1a\\xfe@\\x18\\x91x\\x08\\xeem&2\\x8b\\x96\\x1c\\x1e\\xa5e\\xc6\\x0b\\x7f%\\x93\\xee\\x98[\\x93\\x1f\\xce'\n",
      " signingKey: <ecdsa.ecdsa.Private_key object at 0x000002899DA22C10>, verify key: VerifyingKey.from_string(b'\\x02E\\tDm0\\xa4U0\\xa4\\xc5\\x1d<B\\xd7`C%\\xe5\\x056\\x93\\xc2\\x005', NIST192p, sha1)\n"
     ]
    }
   ],
   "source": [
    "print(signature)\n",
    "print(f\" signingKey: {sk.privkey}, verify key: {vk}\")"
   ]
  },
  {
   "cell_type": "code",
   "execution_count": 4,
   "metadata": {},
   "outputs": [
    {
     "ename": "BadSignatureError",
     "evalue": "Signature verification failed",
     "output_type": "error",
     "traceback": [
      "\u001b[1;31m---------------------------------------------------------------------------\u001b[0m",
      "\u001b[1;31mBadSignatureError\u001b[0m                         Traceback (most recent call last)",
      "\u001b[1;32mc:\\Users\\vtejo\\OneDrive\\Escritorio\\Cripto\\Proyecto\\ECDSA.ipynb Cell 4\u001b[0m in \u001b[0;36m<cell line: 1>\u001b[1;34m()\u001b[0m\n\u001b[1;32m----> <a href='vscode-notebook-cell:/c%3A/Users/vtejo/OneDrive/Escritorio/Cripto/Proyecto/ECDSA.ipynb#W4sZmlsZQ%3D%3D?line=0'>1</a>\u001b[0m \u001b[39mprint\u001b[39m(vk\u001b[39m.\u001b[39;49mverify(signature, \u001b[39mb\u001b[39;49m\u001b[39m\"\u001b[39;49m\u001b[39mmessage\u001b[39;49m\u001b[39m\"\u001b[39;49m))\n",
      "File \u001b[1;32mc:\\Users\\vtejo\\anaconda3\\lib\\site-packages\\ecdsa\\keys.py:673\u001b[0m, in \u001b[0;36mVerifyingKey.verify\u001b[1;34m(self, signature, data, hashfunc, sigdecode, allow_truncate)\u001b[0m\n\u001b[0;32m    671\u001b[0m hashfunc \u001b[39m=\u001b[39m hashfunc \u001b[39mor\u001b[39;00m \u001b[39mself\u001b[39m\u001b[39m.\u001b[39mdefault_hashfunc\n\u001b[0;32m    672\u001b[0m digest \u001b[39m=\u001b[39m hashfunc(data)\u001b[39m.\u001b[39mdigest()\n\u001b[1;32m--> 673\u001b[0m \u001b[39mreturn\u001b[39;00m \u001b[39mself\u001b[39;49m\u001b[39m.\u001b[39;49mverify_digest(signature, digest, sigdecode, allow_truncate)\n",
      "File \u001b[1;32mc:\\Users\\vtejo\\anaconda3\\lib\\site-packages\\ecdsa\\keys.py:729\u001b[0m, in \u001b[0;36mVerifyingKey.verify_digest\u001b[1;34m(self, signature, digest, sigdecode, allow_truncate)\u001b[0m\n\u001b[0;32m    727\u001b[0m \u001b[39mif\u001b[39;00m \u001b[39mself\u001b[39m\u001b[39m.\u001b[39mpubkey\u001b[39m.\u001b[39mverifies(number, sig):\n\u001b[0;32m    728\u001b[0m     \u001b[39mreturn\u001b[39;00m \u001b[39mTrue\u001b[39;00m\n\u001b[1;32m--> 729\u001b[0m \u001b[39mraise\u001b[39;00m BadSignatureError(\u001b[39m\"\u001b[39m\u001b[39mSignature verification failed\u001b[39m\u001b[39m\"\u001b[39m)\n",
      "\u001b[1;31mBadSignatureError\u001b[0m: Signature verification failed"
     ]
    }
   ],
   "source": [
    "print(vk.verify(signature, b\"message\"))"
   ]
  },
  {
   "cell_type": "code",
   "execution_count": null,
   "metadata": {},
   "outputs": [],
   "source": []
  }
 ],
 "metadata": {
  "kernelspec": {
   "display_name": "Python 3.9.12 ('base')",
   "language": "python",
   "name": "python3"
  },
  "language_info": {
   "codemirror_mode": {
    "name": "ipython",
    "version": 3
   },
   "file_extension": ".py",
   "mimetype": "text/x-python",
   "name": "python",
   "nbconvert_exporter": "python",
   "pygments_lexer": "ipython3",
   "version": "3.9.12 (main, Apr  4 2022, 05:22:27) [MSC v.1916 64 bit (AMD64)]"
  },
  "orig_nbformat": 4,
  "vscode": {
   "interpreter": {
    "hash": "7a9ec323ac0c192db192b97c6bde1a3c1f13ed0f0fae9286fbb11658cb4d124d"
   }
  }
 },
 "nbformat": 4,
 "nbformat_minor": 2
}

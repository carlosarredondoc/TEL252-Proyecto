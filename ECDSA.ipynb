{
 "cells": [
  {
   "cell_type": "code",
   "execution_count": 1,
   "metadata": {},
   "outputs": [
    {
     "name": "stdout",
     "output_type": "stream",
     "text": [
      "Requirement already satisfied: ecdsa in c:\\users\\vtejo\\anaconda3\\lib\\site-packages (0.18.0)\n",
      "Requirement already satisfied: six>=1.9.0 in c:\\users\\vtejo\\anaconda3\\lib\\site-packages (from ecdsa) (1.16.0)\n"
     ]
    }
   ],
   "source": [
    "!pip install ecdsa"
   ]
  },
  {
   "cell_type": "code",
   "execution_count": 1,
   "metadata": {},
   "outputs": [],
   "source": [
    "import ecdsa\n",
    "from ecdsa import SigningKey\n",
    "sk = SigningKey.generate() # uses NIST192p\n",
    "vk = sk.verifying_key\n",
    "signature = sk.sign(b\"criptotel252\")\n",
    "assert vk.verify(signature, b\"criptotel252\")"
   ]
  },
  {
   "cell_type": "code",
   "execution_count": 3,
   "metadata": {},
   "outputs": [
    {
     "name": "stdout",
     "output_type": "stream",
     "text": [
      "b'\\xe4\\x93\\xac\\x8b)\\xa1\\xb0#\\xa0\\xad\\x02pR\\xbbXX}\\xa0\\xefB\\x1a\\xfe@\\x18\\x91x\\x08\\xeem&2\\x8b\\x96\\x1c\\x1e\\xa5e\\xc6\\x0b\\x7f%\\x93\\xee\\x98[\\x93\\x1f\\xce'\n",
      " signingKey: <ecdsa.ecdsa.Private_key object at 0x000002899DA22C10>, verify key: VerifyingKey.from_string(b'\\x02E\\tDm0\\xa4U0\\xa4\\xc5\\x1d<B\\xd7`C%\\xe5\\x056\\x93\\xc2\\x005', NIST192p, sha1)\n"
     ]
    }
   ],
   "source": [
    "print(signature)\n",
    "print(f\" signingKey: {sk.privkey}, verify key: {vk}\")"
   ]
  },
  {
   "cell_type": "code",
   "execution_count": 4,
   "metadata": {},
   "outputs": [
    {
     "name": "stdout",
     "output_type": "stream",
     "text": [
      "xd\n"
     ]
    }
   ],
   "source": [
    "#print(vk.verify(signature, b\"message\"))\n",
    "try:\n",
    "    x=int(input())\n",
    "except:\n",
    "    print(\"xd\")"
   ]
  },
  {
   "cell_type": "code",
   "execution_count": 8,
   "metadata": {},
   "outputs": [
    {
     "name": "stdout",
     "output_type": "stream",
     "text": [
      "b\"\\xcf\\xdec\\xe8\\xd7\\\\\\xcej\\x00\\xcf|\\xf7 p\\xca\\x9d\\xd9\\xd8\\xfa\\x9d\\x17\\x85\\xe0o\\xed\\xd2\\x11\\xca\\xd7\\xc4\\x02\\x8b\\xe8\\x8a3\\xd7\\xad6z\\x82\\xa63\\x8e\\xd3\\xa5\\r\\x12\\xf7\\x8et\\xbe.R831F\\xeb\\xdd\\xeb\\x86\\xe3c\\x98J\\te&\\xf06nS\\x93\\x9c\\xe6\\x86\\xe8\\xe5\\xe1Q\\x1a\\xdc\\x04\\xbc'\\x13g\\xe2\\xcdl\\x90\\xb7\\xce\\xdc\\xae\\x81^c\\xe8\\xfco\\x891\\xad\\x88\\xc7Y(\\x90\\xd1i2\\xed\\x05N\\x9bVI2v6\\xbc\\xc7JWs\\xbb\\xc2\"\n"
     ]
    },
    {
     "data": {
      "text/plain": [
       "True"
      ]
     },
     "execution_count": 8,
     "metadata": {},
     "output_type": "execute_result"
    }
   ],
   "source": [
    "\n",
    "## Solicitud\n",
    "# para mandar llave compartida\n",
    "# y generar  otra llave derivada\n",
    "from cryptography.hazmat.primitives import hashes\n",
    "from cryptography.hazmat.primitives.asymmetric import ec\n",
    "from cryptography.hazmat.primitives.kdf.hkdf import HKDF\n",
    "# Generate a private key for use in the exchange.\n",
    "server_private_key = ec.generate_private_key(\n",
    "    ec.SECP384R1()\n",
    ")\n",
    "# In a real handshake the peer is a remote client. For this\n",
    "# example we'll generate another local private key though.\n",
    "peer_private_key = ec.generate_private_key(\n",
    "    ec.SECP384R1()\n",
    ")\n",
    "shared_key = server_private_key.exchange(\n",
    "    ec.ECDH(), peer_private_key.public_key())\n",
    "# Perform key derivation.\n",
    "derived_key = HKDF(\n",
    "    algorithm=hashes.SHA256(),\n",
    "    length=128,\n",
    "    salt=None,\n",
    "    info=b'handshake data',\n",
    ").derive(shared_key)\n",
    "# And now we can demonstrate that the handshake performed in the\n",
    "# opposite direction gives the same final value\n",
    "same_shared_key = peer_private_key.exchange(\n",
    "    ec.ECDH(), server_private_key.public_key())\n",
    "print(same_derived_key)\n",
    "# Perform key derivation.\n",
    "same_derived_key = HKDF(\n",
    "    algorithm=hashes.SHA256(),\n",
    "    length=128,\n",
    "    salt=None,\n",
    "    info=b'handshake data',\n",
    ").derive(same_shared_key)\n",
    "derived_key == same_derived_key"
   ]
  },
  {
   "cell_type": "code",
   "execution_count": 10,
   "metadata": {},
   "outputs": [
    {
     "name": "stdout",
     "output_type": "stream",
     "text": [
      "public_key: <cryptography.hazmat.backends.openssl.ec._EllipticCurvePublicKey object at 0x000002782E6CD6D0>\n",
      "Good Signature:  304402205f87c1da04bf65001018565ea2478c6d50adb0fb1d2a516f52df54aea199ce2802204bc6ea3155f298cd60d868118726d74dba01edacdd61fcbadb886abef8f2c1db\n",
      "Good signature verified\n"
     ]
    }
   ],
   "source": [
    "from cryptography.hazmat.primitives.asymmetric import ec\n",
    "from cryptography.hazmat.primitives import hashes\n",
    "from cryptography import exceptions\n",
    "import binascii\n",
    "\n",
    "private_key = ec.generate_private_key(ec.SECP256K1())\n",
    "data = b\"tel252s1\"\n",
    "public_key = private_key.public_key()\n",
    "print(\"public_key:\",public_key)\n",
    "try:\n",
    "    signature = private_key.sign(data,ec.ECDSA(hashes.SHA256()))\n",
    "    print (\"Good Signature: \",binascii.b2a_hex(signature).decode())\n",
    "    public_key.verify(signature, data, ec.ECDSA(hashes.SHA256()))\n",
    "except exceptions.InvalidSignature:\n",
    "    print(\"A bad signature failed\")\n",
    "else:\n",
    "    print(\"Good signature verified\")"
   ]
  }
 ],
 "metadata": {
  "kernelspec": {
   "display_name": "Python 3.9.12 ('base')",
   "language": "python",
   "name": "python3"
  },
  "language_info": {
   "codemirror_mode": {
    "name": "ipython",
    "version": 3
   },
   "file_extension": ".py",
   "mimetype": "text/x-python",
   "name": "python",
   "nbconvert_exporter": "python",
   "pygments_lexer": "ipython3",
   "version": "3.9.12"
  },
  "orig_nbformat": 4,
  "vscode": {
   "interpreter": {
    "hash": "7a9ec323ac0c192db192b97c6bde1a3c1f13ed0f0fae9286fbb11658cb4d124d"
   }
  }
 },
 "nbformat": 4,
 "nbformat_minor": 2
}
